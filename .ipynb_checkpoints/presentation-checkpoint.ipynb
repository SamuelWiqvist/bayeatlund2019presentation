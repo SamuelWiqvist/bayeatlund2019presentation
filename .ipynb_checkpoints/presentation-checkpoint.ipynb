{
 "cells": [
  {
   "cell_type": "markdown",
   "metadata": {
    "slideshow": {
     "slide_type": "slide"
    }
   },
   "source": [
    "## Automatic Learning of Summary Statistics for Approximate Bayesian Computation Using Deep Learning\n",
    "\n",
    "\n",
    "\n",
    "Samuel Wiqvist, Ph.D. Student, Lund University.\n",
    "\n",
    "Work with: Pierre-Alexandre Mattei (ITU), Umberto Picchini (GU/Chalmers), and Jes Frellsen (ITU). "
   ]
  },
  {
   "cell_type": "code",
   "execution_count": 1,
   "metadata": {
    "slideshow": {
     "slide_type": "skip"
    }
   },
   "outputs": [
    {
     "data": {
      "text/plain": [
       "plot_abc_inference_results (generic function with 1 method)"
      ]
     },
     "execution_count": 1,
     "metadata": {},
     "output_type": "execute_result"
    }
   ],
   "source": [
    "# load packages and set up\n",
    "using PyPlot\n",
    "using Distributions\n",
    "using Printf\n",
    "using Random \n",
    "using KernelDensity\n",
    "\n",
    "# data model\n",
    "Random.seed!(12)\n",
    "α = 2; β = 2\n",
    "m = 4; n = 5; p = 0.7\n",
    "y_obs = rand(Binomial(m,p),n) # generate data\n",
    "\n",
    "# analytical posterior\n",
    "posterior = Beta(α + sum(y_obs), β + m*n - sum(y_obs));\n",
    "\n",
    "# plot function\n",
    "function plot_abc_inference_results(abc_posterior_samples)\n",
    "    \n",
    "    kde_approx_posterior = kde(abc_posterior_samples)\n",
    "\n",
    "    # plot results\n",
    "    PyPlot.figure(figsize=(7,4))\n",
    "    PyPlot.plot(kde_approx_posterior.x,kde_approx_posterior.density, \"b\")\n",
    "    PyPlot.plot(0:0.01:1,pdf.(posterior, 0:0.01:1), \"r\")\n",
    "    PyPlot.plot(0:0.01:1, pdf.(prior, 0:0.01:1), \"g\")\n",
    "    PyPlot.plot((p, p), (0, maximum(pdf.(posterior, 0:0.01:1))), \"k\")\n",
    "    PyPlot.xlabel(\"p\")\n",
    "    PyPlot.ylabel(\"Density\")\n",
    "    PyPlot.legend([\"ABC posterior\"; \"Analytical posterior\"; \"Prior\"; \"True value\"])\n",
    "\n",
    "end "
   ]
  },
  {
   "cell_type": "markdown",
   "metadata": {
    "slideshow": {
     "slide_type": "slide"
    }
   },
   "source": [
    "#### What we will talk about today\n",
    "\n",
    "* Introduction to ABC;\n"
   ]
  },
  {
   "cell_type": "markdown",
   "metadata": {
    "slideshow": {
     "slide_type": "fragment"
    }
   },
   "source": [
    "* How we can leverage Deep Learning methods to learn the summary statistics for ABC; \n",
    "    * Present the main results from the paper:  *Partially Exchangeable Networks and Architectures for Learning Summary Statistics in Approximate Bayesian Computation* (accepted for ICML 2019);\n"
   ]
  },
  {
   "cell_type": "markdown",
   "metadata": {
    "slideshow": {
     "slide_type": "fragment"
    }
   },
   "source": [
    "* We will have a practical focus and run ABC for a simple model (the Beta-Binomial model).   "
   ]
  },
  {
   "cell_type": "markdown",
   "metadata": {
    "slideshow": {
     "slide_type": "slide"
    }
   },
   "source": [
    "#### Approxiamte Bayesian Computation: Simulation based inference \n",
    "\n",
    "* ABC in a nut-shell: Simulations-based inference method where we generate parameter proposals $\\theta^\\star$ and accept $\\theta^\\star$ if the generated data $y^{\\star}\\sim p(y|\\theta^\\star)$ is *similar* to our observed data $y^{\\text{obs}}$;"
   ]
  },
  {
   "cell_type": "markdown",
   "metadata": {
    "slideshow": {
     "slide_type": "fragment"
    }
   },
   "source": [
    "* ABC only requires that we can simulate data from our model $p(y|\\theta)$, thus ABC is very generic, and can be applied for models where the likelihood is intractable.   "
   ]
  },
  {
   "cell_type": "markdown",
   "metadata": {
    "slideshow": {
     "slide_type": "fragment"
    }
   },
   "source": [
    "* *Curse-of-dimensionality*: Instead of comparing the data sets we compare a set of summary statistics $s =S(y)$. The main focus of our work is how we  *automatically* can learn the summary statistics."
   ]
  },
  {
   "cell_type": "markdown",
   "metadata": {
    "slideshow": {
     "slide_type": "slide"
    }
   },
   "source": [
    "#### Approxiamte Bayesian Computation: Rejection sampling method \n",
    "\n",
    "* Generate $\\tilde{N}$ independent proposals $\\theta^i\\sim p(\\theta)$,  and corresponding data sets  $y^i\\sim p(y|\\theta^i)$ from the simulator $p(y|\\theta^\\star)$;"
   ]
  },
  {
   "cell_type": "markdown",
   "metadata": {
    "slideshow": {
     "slide_type": "fragment"
    }
   },
   "source": [
    "* Compute the summary statistics $s^i = S(y^i)$ for each $i=1,\\ldots,\\tilde{N}$;"
   ]
  },
  {
   "cell_type": "markdown",
   "metadata": {
    "slideshow": {
     "slide_type": "fragment"
    }
   },
   "source": [
    "* Compute the distances $\\Delta(s^{i}, s^{\\text{obs}})$ for each $i=1,\\ldots,\\tilde{N}$. "
   ]
  },
  {
   "cell_type": "markdown",
   "metadata": {
    "slideshow": {
     "slide_type": "fragment"
    }
   },
   "source": [
    "* Retain proposals $\\theta^i$ corresponding to those $\\Delta(s^{i}, s^{\\text{obs}})$ such that  $\\Delta(s^{i}, s^{\\text{obs}}) \\leq \\epsilon$, for some  $\\epsilon \\geq 0$. "
   ]
  },
  {
   "cell_type": "markdown",
   "metadata": {
    "slideshow": {
     "slide_type": "slide"
    }
   },
   "source": [
    "#### Approxiamte Bayesian Computation: Approxiamte posterior \n",
    "\n",
    "* The joint distribution of accapted parameter-data paris $(\\theta^{\\star}, s^{\\star})$ is \n",
    "$$p(\\theta^{\\star}, s^{\\star}) = p(s^{\\star}|\\theta^{\\star}) p(\\theta^{\\star}) I(\\Delta(s^{\\star},s^{\\text{obs}}) \\leq \\epsilon),$$\n",
    "where $s^{\\text{obs}} = S(y^{\\text{obs}})$, $I$ indicator kernel, $\\Delta$ distance function, and $\\epsilon$ the threshold.\n"
   ]
  },
  {
   "cell_type": "markdown",
   "metadata": {
    "slideshow": {
     "slide_type": "fragment"
    }
   },
   "source": [
    "* Now assume that $S(s^{\\star}) = S(s^{\\text{obs}}) \\,\\, \\text{iff} \\,\\, y^{\\star} = y^{\\text{obs}}$ and let $\\epsilon = 0$. Now marginlizing $s^{\\star}$ yields the true posterior:\n",
    "$$ p(\\theta^{\\star}) = \\int p(s^{\\star}|\\theta^{\\star}) p(\\theta^{\\star}) I(\\Delta(s^{\\star},s^{\\text{obs}}) \\leq \\epsilon)   ds^{\\star} = p(y |\\theta^{\\star}) p(\\theta^{\\star}) \\propto  p(\\theta^{\\star}| y) .$$"
   ]
  },
  {
   "cell_type": "markdown",
   "metadata": {
    "slideshow": {
     "slide_type": "fragment"
    }
   },
   "source": [
    "* However, in (almost) all situations we sample from an approximate posterior: \n",
    "\n",
    "$$p^{\\epsilon}_{\\text{ABC}}(\\theta^{\\star} | s^{\\text{obs}}) \\propto int p(s^{\\star}|\\theta^{\\star}) p(\\theta^{\\star}) I(\\Delta(s^{\\star},s^{\\text{obs}}) \\leq \\epsilon)   ds^{\\star}.$$\n",
    "\n",
    "HAVE TO LOOK AT THIS AGAIN"
   ]
  },
  {
   "cell_type": "markdown",
   "metadata": {
    "slideshow": {
     "slide_type": "slide"
    }
   },
   "source": [
    "#### ABC rejection sampling for the Beta-Binomial model"
   ]
  },
  {
   "cell_type": "code",
   "execution_count": 2,
   "metadata": {
    "slideshow": {
     "slide_type": "fragment"
    }
   },
   "outputs": [],
   "source": [
    "# Define the model and the prior distribution.\n",
    "\n",
    "Random.seed!(12) # fix random numbers \n",
    "\n",
    "# model parameters\n",
    "m = 4; n = 5; p_true = 0.7\n",
    "\n",
    " # defined the data generating function\n",
    "data_generator(p) = rand(Binomial(m,p),n) \n",
    "\n",
    "# generate data\n",
    "y_obs = data_generator(p_true)\n",
    "\n",
    "# prior \n",
    "α = 2; β = 2\n",
    "prior = Beta(α,β);"
   ]
  },
  {
   "cell_type": "markdown",
   "metadata": {
    "slideshow": {
     "slide_type": "slide"
    }
   },
   "source": [
    "#### ABC rejection sampling for the Beta-Binomial model "
   ]
  },
  {
   "cell_type": "code",
   "execution_count": 3,
   "metadata": {
    "slideshow": {
     "slide_type": "fragment"
    }
   },
   "outputs": [],
   "source": [
    "# ABC rejection sampling algorithm \n",
    "function abc_rs(;N_proposals::Int, ϵ::Real)\n",
    "    \n",
    "    abc_posterior_samples = zeros(N_proposals)\n",
    "    nbr_accapted_proposals = 0 \n",
    "    \n",
    "    for i in 1:N_proposals\n",
    "    \n",
    "        p_star = rand(prior) # sample parameter proposal from prior \n",
    "        y_star = data_generator(p_star) # generate data from the data model\n",
    "        Δ = sum(abs.(sort(y_star)-sort(y_obs))) # compute ABC distance      \n",
    "        \n",
    "        if Δ <= ϵ # accapte proposal \n",
    "            nbr_accapted_proposals += 1 \n",
    "            abc_posterior_samples[nbr_accapted_proposals] = p_star \n",
    "        end \n",
    "    end \n",
    "    \n",
    "    return abc_posterior_samples[1:nbr_accapted_proposals]\n",
    "end; "
   ]
  },
  {
   "cell_type": "markdown",
   "metadata": {
    "slideshow": {
     "slide_type": "slide"
    }
   },
   "source": [
    "#### ABC rejection sampling for the Beta-Binomial model "
   ]
  },
  {
   "cell_type": "code",
   "execution_count": 4,
   "metadata": {
    "slideshow": {
     "slide_type": "fragment"
    }
   },
   "outputs": [
    {
     "name": "stdout",
     "output_type": "stream",
     "text": [
      "Accaptance rate: 0.35 %"
     ]
    }
   ],
   "source": [
    "# Run ABC rejection sampling\n",
    "abc_posterior_samples = abc_rs(N_proposals = 10^6, ϵ  = 0);\n",
    "@printf \"Accaptance rate: %.2f %%\" length(abc_posterior_samples)/10^6*100"
   ]
  },
  {
   "cell_type": "code",
   "execution_count": 5,
   "metadata": {
    "scrolled": false,
    "slideshow": {
     "slide_type": "fragment"
    }
   },
   "outputs": [
    {
     "data": {
      "image/png": "[encoded data removed]",
      "text/plain": [
       "Figure(PyObject <Figure size 700x400 with 1 Axes>)"
      ]
     },
     "metadata": {},
     "output_type": "display_data"
    }
   ],
   "source": [
    "# plot posterior inference results \n",
    "plot_abc_inference_results(abc_posterior_samples);"
   ]
  },
  {
   "cell_type": "markdown",
   "metadata": {
    "slideshow": {
     "slide_type": "slide"
    }
   },
   "source": [
    "#### ABC rejection sampling for the Beta-Binomial model (with summary statistics)"
   ]
  },
  {
   "cell_type": "code",
   "execution_count": 6,
   "metadata": {
    "slideshow": {
     "slide_type": "fragment"
    }
   },
   "outputs": [],
   "source": [
    "# defined the summary statistics \n",
    "S(y) = sum(y); # canonical statistics!"
   ]
  },
  {
   "cell_type": "code",
   "execution_count": 7,
   "metadata": {
    "slideshow": {
     "slide_type": "fragment"
    }
   },
   "outputs": [],
   "source": [
    "# ABC rejection sampling algorithm \n",
    "function abc_rs_summary_stats(;N_proposals::Int, ϵ::Real, S::Function)\n",
    "    \n",
    "    abc_posterior_samples = zeros(N_proposals)\n",
    "    nbr_accapted_proposals = 0 \n",
    "    \n",
    "    for i in 1:N_proposals\n",
    "    \n",
    "        p_star = rand(prior) # sample parameter proposal from prior \n",
    "        y_star = data_generator(p_star) # generate data from the data model\n",
    "        Δ =  abs(S(y_star)-S(y_obs)) # compute ABC distance      \n",
    "        \n",
    "        if Δ <= ϵ # accapte proposal \n",
    "            nbr_accapted_proposals += 1 \n",
    "            abc_posterior_samples[nbr_accapted_proposals] = p_star \n",
    "        end \n",
    "    end \n",
    "    \n",
    "    return abc_posterior_samples[1:nbr_accapted_proposals]\n",
    "end; "
   ]
  },
  {
   "cell_type": "markdown",
   "metadata": {
    "slideshow": {
     "slide_type": "slide"
    }
   },
   "source": [
    "#### ABC rejection sampling for the Beta-Binomial model (with summary statistics)"
   ]
  },
  {
   "cell_type": "code",
   "execution_count": 8,
   "metadata": {
    "slideshow": {
     "slide_type": "fragment"
    }
   },
   "outputs": [
    {
     "name": "stdout",
     "output_type": "stream",
     "text": [
      "Accaptance rate: 6.74 %"
     ]
    }
   ],
   "source": [
    "# Run ABC rejection sampling\n",
    "abc_posterior_samples = abc_rs_summary_stats(N_proposals = 10^6, ϵ  = 0.2, S=S);\n",
    "@printf \"Accaptance rate: %.2f %%\" length(abc_posterior_samples)/10^6*100"
   ]
  },
  {
   "cell_type": "code",
   "execution_count": 9,
   "metadata": {
    "slideshow": {
     "slide_type": "fragment"
    }
   },
   "outputs": [
    {
     "data": {
      "image/png": "[encoded data removed]",
      "text/plain": [
       "Figure(PyObject <Figure size 700x400 with 1 Axes>)"
      ]
     },
     "metadata": {},
     "output_type": "display_data"
    }
   ],
   "source": [
    "# plot posterior inference results \n",
    "plot_abc_inference_results(abc_posterior_samples);"
   ]
  },
  {
   "cell_type": "markdown",
   "metadata": {
    "slideshow": {
     "slide_type": "slide"
    }
   },
   "source": [
    "#### How to select/learn summary statistics\n",
    "\n",
    "* The summary statistics *should* be low-dimensional and informative for the parameters (in the ideal case sufficient).\n",
    "* The problem of selecting informative summary statistics is the main challenge when applying ABC in practice;\n",
    "* Usually, summary statistics are ad-hoc and \"handpicked\" out of subject-domain expertise. For example for dynamic models, summaries can be autocorrelations, cross-covariances, stationary mean. For iid data could be quantiles, mean and standard deviation etc.;\n",
    "* Several methods to learn/select summary statistics have been developed (see (Prangle, 2015) for a review on these methods);\n"
   ]
  },
  {
   "cell_type": "markdown",
   "metadata": {
    "slideshow": {
     "slide_type": "slide"
    }
   },
   "source": [
    "#### Learning summary statistics using linear regression\n",
    "\n",
    "* An important paper is (Fearnhead, 2012) where they use linear regression to learn summary statistics, they also show that the posterior mean is the *best* (in terms of loss for the posterior mean) summary statistic; \n",
    "\n"
   ]
  },
  {
   "cell_type": "markdown",
   "metadata": {
    "slideshow": {
     "slide_type": "slide"
    }
   },
   "source": [
    "#### Semi-automatic ABC (the method from (Fearnhead, 2012))\n",
    "\n",
    "\n",
    "* We can sample a set of parameter-data pairs $(\\theta^{i}, y^i)_{1 \\leq i \\leq N}$, by sampling $\\theta^{i}$ from the prior, and then simulate corresponding data set $y^{i}$ from the simulator $p(y|\\theta)$;\n",
    "* Learn the posterior mean from the $N$ simulations,  using a linear regression model: $$\\theta_j^i = E(\\theta_j | y^i) + \\xi_j^i = b_{0_j} + b_j h(y^i) + \\xi_j^i.$$\n",
    "* After fitting the linear regression model $\\tilde{b}_{0_j} + \\tilde{b}_j h(y^{\\star})$ is the j:th summary statistics for the proposed data set $y^{\\star}$. \n",
    "\n",
    "    "
   ]
  },
  {
   "cell_type": "code",
   "execution_count": null,
   "metadata": {
    "slideshow": {
     "slide_type": "slide"
    }
   },
   "outputs": [],
   "source": []
  },
  {
   "cell_type": "code",
   "execution_count": null,
   "metadata": {
    "slideshow": {
     "slide_type": "slide"
    }
   },
   "outputs": [],
   "source": []
  },
  {
   "cell_type": "code",
   "execution_count": null,
   "metadata": {
    "slideshow": {
     "slide_type": "slide"
    }
   },
   "outputs": [],
   "source": []
  },
  {
   "cell_type": "code",
   "execution_count": null,
   "metadata": {
    "slideshow": {
     "slide_type": "slide"
    }
   },
   "outputs": [],
   "source": []
  },
  {
   "cell_type": "code",
   "execution_count": null,
   "metadata": {
    "slideshow": {
     "slide_type": "slide"
    }
   },
   "outputs": [],
   "source": []
  },
  {
   "cell_type": "markdown",
   "metadata": {
    "slideshow": {
     "slide_type": "slide"
    }
   },
   "source": [
    "#### The end\n",
    "\n",
    "Homepage: http://www.maths.lu.se/staff/samuel-wiqvist/\n",
    "\n",
    "Github: SamuelWiqvist\n",
    "\n",
    "Twitter: samuel_wiqvist"
   ]
  },
  {
   "cell_type": "markdown",
   "metadata": {
    "slideshow": {
     "slide_type": "slide"
    }
   },
   "source": [
    "#### Outline \n",
    "\n",
    "* Intro to ABC with simple Beta-Bionomial model (we will only have one simple example since it is really annoying to create the slides for the code examples)\n",
    "* Something on summary statistics \n",
    "* Why we want the PEN network \n",
    "* How the PEN network works, why it is particular suitable for timeseries \n",
    "* Something on our results (MA2 model with noise)\n",
    "* It could be nice to use PEN for the simple Beta-Bionomial model so that we show the full workflow (perhaps it would be better to use a MLP example and then only show the results from the paper without running the calculations)"
   ]
  },
  {
   "cell_type": "markdown",
   "metadata": {
    "slideshow": {
     "slide_type": "slide"
    }
   },
   "source": [
    "#### References \n",
    "\n",
    "(Prangle, 2015) Bla bla bla\n",
    "\n",
    "(Fearnhead, 2012 Bla bla bla "
   ]
  }
 ],
 "metadata": {
  "@webio": {
   "lastCommId": null,
   "lastKernelId": null
  },
  "celltoolbar": "Slideshow",
  "kernelspec": {
   "display_name": "Julia 1.0.0",
   "language": "julia",
   "name": "julia-1.0"
  },
  "language_info": {
   "file_extension": ".jl",
   "mimetype": "application/julia",
   "name": "julia",
   "version": "1.0.0"
  }
 },
 "nbformat": 4,
 "nbformat_minor": 2
}
