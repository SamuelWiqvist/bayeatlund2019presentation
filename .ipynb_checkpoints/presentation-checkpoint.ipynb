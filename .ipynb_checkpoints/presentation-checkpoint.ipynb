{
 "cells": [
  {
   "cell_type": "markdown",
   "metadata": {
    "slideshow": {
     "slide_type": "slide"
    }
   },
   "source": [
    "## Automatic Learning of Summary Statistics for Approximate Bayesian Computation Using Deep Learning\n",
    "\n",
    "\n",
    "\n",
    "Samuel Wiqvist, Ph.D. student, Lund University.\n",
    "\n",
    "Work with: Pierre-Alexandre Mattei (ITU), Umberto Picchini (GU/Chalmers), and Jes Frellsen (ITU). "
   ]
  },
  {
   "cell_type": "code",
   "execution_count": 1,
   "metadata": {
    "slideshow": {
     "slide_type": "skip"
    }
   },
   "outputs": [
    {
     "name": "stderr",
     "output_type": "stream",
     "text": [
      "┌ Info: Recompiling stale cache file /home/samuel/.julia/compiled/v1.0/Distributions/xILW0.ji for Distributions [31c24e10-a181-5473-b8eb-7969acd0382f]\n",
      "└ @ Base loading.jl:1184\n",
      "┌ Info: Recompiling stale cache file /home/samuel/.julia/compiled/v1.0/KernelDensity/4QyGx.ji for KernelDensity [5ab0869b-81aa-558d-bb23-cbf5423bbe9b]\n",
      "└ @ Base loading.jl:1184\n"
     ]
    },
    {
     "data": {
      "text/plain": [
       "plot_abc_inference_results (generic function with 1 method)"
      ]
     },
     "execution_count": 1,
     "metadata": {},
     "output_type": "execute_result"
    }
   ],
   "source": [
    "# load packages and set up\n",
    "using PyPlot\n",
    "using Distributions\n",
    "using Printf\n",
    "using Random \n",
    "using KernelDensity\n",
    "\n",
    "# data model\n",
    "Random.seed!(12)\n",
    "α = 2; β = 2\n",
    "m = 4; n = 5; p = 0.7\n",
    "y_obs = rand(Binomial(m,p),n) # generate data\n",
    "\n",
    "# analytical posterior\n",
    "posterior = Beta(α + sum(y_obs), β + m*n - sum(y_obs));\n",
    "\n",
    "# plot function\n",
    "function plot_abc_inference_results(abc_posterior_samples)\n",
    "    \n",
    "    kde_approx_posterior = kde(abc_posterior_samples)\n",
    "\n",
    "    # plot results\n",
    "    PyPlot.figure(figsize=(7,4))\n",
    "    PyPlot.plot(kde_approx_posterior.x,kde_approx_posterior.density, \"b\")\n",
    "    PyPlot.plot(0:0.01:1,pdf.(posterior, 0:0.01:1), \"r\")\n",
    "    PyPlot.plot(0:0.01:1, pdf.(prior, 0:0.01:1), \"g\")\n",
    "    PyPlot.plot((p, p), (0, maximum(pdf.(posterior, 0:0.01:1))), \"k\")\n",
    "    PyPlot.xlabel(\"p\")\n",
    "    PyPlot.ylabel(\"Density\")\n",
    "    PyPlot.legend([\"ABC posterior\"; \"Analytical posterior\"; \"Prior\"; \"Ground truth\"])\n",
    "\n",
    "end "
   ]
  },
  {
   "cell_type": "markdown",
   "metadata": {
    "slideshow": {
     "slide_type": "slide"
    }
   },
   "source": [
    "#### What we will talk about today\n",
    "\n",
    "* Introduction to ABC;\n"
   ]
  },
  {
   "cell_type": "markdown",
   "metadata": {
    "slideshow": {
     "slide_type": "fragment"
    }
   },
   "source": [
    "* How to leverage deep learning methods to learn the summary statistics for ABC; \n",
    "    * Present the main results from the paper:  *Partially Exchangeable Networks and Architectures for Learning Summary Statistics in Approximate Bayesian Computation* (accepted for ICML 2019);\n"
   ]
  },
  {
   "cell_type": "markdown",
   "metadata": {
    "slideshow": {
     "slide_type": "fragment"
    }
   },
   "source": [
    "* We will have a practical focus and run ABC for a simple model (the Beta-Binomial model).   "
   ]
  },
  {
   "cell_type": "markdown",
   "metadata": {
    "slideshow": {
     "slide_type": "slide"
    }
   },
   "source": [
    "#### Approximate Bayesian Computation: Simulation based inference \n",
    "\n",
    "* ABC in a nut-shell: Simulations-based inference method where we generate parameter proposal $\\theta^\\star$ and accept $\\theta^\\star$ if the generated data $y^{\\star}\\sim p(y|\\theta^\\star)$ is *similar* to our observed data $y^{\\text{obs}}$;"
   ]
  },
  {
   "cell_type": "markdown",
   "metadata": {
    "slideshow": {
     "slide_type": "fragment"
    }
   },
   "source": [
    "* ABC only requires that we can simulate data from a computer simulator of our model $p(y|\\theta)$."
   ]
  },
  {
   "cell_type": "markdown",
   "metadata": {
    "slideshow": {
     "slide_type": "fragment"
    }
   },
   "source": [
    "* Thus, ABC is very generic, and can be applied for models where the likelihood function is intractable.   "
   ]
  },
  {
   "cell_type": "markdown",
   "metadata": {
    "slideshow": {
     "slide_type": "fragment"
    }
   },
   "source": [
    "* *Curse-of-dimensionality*: Instead of comparing the data sets we compare a set of summary statistics $s =S(y)$. The main focus of our work is how to  *automatically* learn the summary statistics. (For example for dynamic models, summaries can be autocorrelations, cross-covariances, stationary mean. For i.i.d. data could be quantiles, mean and standard deviation etc.;)\n"
   ]
  },
  {
   "cell_type": "markdown",
   "metadata": {
    "slideshow": {
     "slide_type": "slide"
    }
   },
   "source": [
    "#### Approximate Bayesian Computation: Rejection sampling method \n",
    "\n",
    "* Generate $\\tilde{N}$ independent proposals $\\theta^i\\sim p(\\theta)$,  and corresponding data sets  $y^i\\sim p(y|\\theta^i)$ from the computer simulator $p(y|\\theta)$;"
   ]
  },
  {
   "cell_type": "markdown",
   "metadata": {
    "slideshow": {
     "slide_type": "fragment"
    }
   },
   "source": [
    "* Compute the summary statistics $s^i = S(y^i)$ for each $i=1,\\ldots,\\tilde{N}$;"
   ]
  },
  {
   "cell_type": "markdown",
   "metadata": {
    "slideshow": {
     "slide_type": "fragment"
    }
   },
   "source": [
    "* Compute the distances $\\Delta(s^{i}, s^{\\text{obs}})$ for each $i=1,\\ldots,\\tilde{N}$. "
   ]
  },
  {
   "cell_type": "markdown",
   "metadata": {
    "slideshow": {
     "slide_type": "fragment"
    }
   },
   "source": [
    "* Retain proposals $\\theta^i$ corresponding to those $\\Delta(s^{i}, s^{\\text{obs}})$ such that  $\\Delta(s^{i}, s^{\\text{obs}}) \\leq \\epsilon$, for some  $\\epsilon \\geq 0$; "
   ]
  },
  {
   "cell_type": "markdown",
   "metadata": {
    "slideshow": {
     "slide_type": "fragment"
    }
   },
   "source": [
    "* We sample from $p^{\\epsilon}_{\\text{ABC}}(\\theta^{\\star} | s^{\\text{obs}})$. "
   ]
  },
  {
   "cell_type": "markdown",
   "metadata": {
    "slideshow": {
     "slide_type": "slide"
    }
   },
   "source": [
    "#### ABC rejection sampling for the Beta-Binomial model\n",
    "\n",
    "Model: $$y \\sim \\text{Binomial}(m,p),$$ $$p \\sim \\text{Beta}(\\alpha, \\beta).$$ \n"
   ]
  },
  {
   "cell_type": "code",
   "execution_count": 2,
   "metadata": {
    "slideshow": {
     "slide_type": "fragment"
    }
   },
   "outputs": [],
   "source": [
    "# Define the model and the prior distribution.\n",
    "\n",
    "Random.seed!(12) # fix random numbers \n",
    "\n",
    "# model parameters\n",
    "m = 4; n = 5; p_true = 0.7\n",
    "\n",
    "# define the data generating function\n",
    "data_generator(p) = rand(Binomial(m,p),n) \n",
    "\n",
    "# generate data\n",
    "y_obs = data_generator(p_true)\n",
    "\n",
    "# prior \n",
    "α = 2; β = 2\n",
    "prior = Beta(α,β);\n"
   ]
  },
  {
   "cell_type": "markdown",
   "metadata": {
    "slideshow": {
     "slide_type": "slide"
    }
   },
   "source": [
    "#### ABC rejection sampling for the Beta-Binomial model "
   ]
  },
  {
   "cell_type": "code",
   "execution_count": 3,
   "metadata": {
    "slideshow": {
     "slide_type": "fragment"
    }
   },
   "outputs": [],
   "source": [
    "# define the summary statistics \n",
    "S_handpicked(y) = sum(y); # canonical statistic, i.e. the statistic is sufficient!"
   ]
  },
  {
   "cell_type": "code",
   "execution_count": 4,
   "metadata": {
    "slideshow": {
     "slide_type": "fragment"
    }
   },
   "outputs": [],
   "source": [
    "# ABC rejection sampling algorithm \n",
    "function abc_rs(;N_proposals::Int, ϵ::Real, S::Function)\n",
    "    \n",
    "    abc_posterior_samples = zeros(N_proposals) \n",
    "    nbr_accepted_proposals = 0 \n",
    "    \n",
    "    s_obs = S(y_obs) # compute summary statistics for obs. data \n",
    "    \n",
    "    for i in 1:N_proposals\n",
    "    \n",
    "        p_star = rand(prior) # sample parameter proposal from prior \n",
    "        y_star = data_generator(p_star) # generate data from the computer simulator \n",
    "        Δ =  abs(S(y_star)-s_obs) # compute ABC distance      \n",
    "        \n",
    "        if Δ <= ϵ # accapte proposal \n",
    "            nbr_accepted_proposals += 1 \n",
    "            abc_posterior_samples[nbr_accepted_proposals] = p_star \n",
    "        end \n",
    "        \n",
    "    end \n",
    "    \n",
    "    return abc_posterior_samples[1:nbr_accepted_proposals]\n",
    "end; "
   ]
  },
  {
   "cell_type": "markdown",
   "metadata": {
    "slideshow": {
     "slide_type": "slide"
    }
   },
   "source": [
    "#### ABC rejection sampling for the Beta-Binomial model"
   ]
  },
  {
   "cell_type": "code",
   "execution_count": 28,
   "metadata": {
    "slideshow": {
     "slide_type": "fragment"
    }
   },
   "outputs": [
    {
     "name": "stdout",
     "output_type": "stream",
     "text": [
      "Acceptance rate: 33.28 %"
     ]
    }
   ],
   "source": [
    "# Run ABC rejection sampling\n",
    "abc_posterior_samples = abc_rs(N_proposals = 10^6, ϵ  = 2, S=S_handpicked);\n",
    "@printf \"Acceptance rate: %.2f %%\" length(abc_posterior_samples)/10^6*100"
   ]
  },
  {
   "cell_type": "code",
   "execution_count": 29,
   "metadata": {
    "slideshow": {
     "slide_type": "fragment"
    }
   },
   "outputs": [
    {
     "data": {
      "image/png": "[encoded data removed]",
      "text/plain": [
       "Figure(PyObject <Figure size 700x400 with 1 Axes>)"
      ]
     },
     "metadata": {},
     "output_type": "display_data"
    }
   ],
   "source": [
    "# plot posterior inference results \n",
    "plot_abc_inference_results(abc_posterior_samples);"
   ]
  },
  {
   "cell_type": "markdown",
   "metadata": {
    "slideshow": {
     "slide_type": "slide"
    }
   },
   "source": [
    "#### How to select/learn summary statistics\n",
    "\n",
    "* The summary statistics *should* be low-dimensional and informative for the parameters (in the ideal case sufficient)."
   ]
  },
  {
   "cell_type": "markdown",
   "metadata": {
    "slideshow": {
     "slide_type": "fragment"
    }
   },
   "source": [
    "* The problem of selecting informative summary statistics is the main challenge when applying ABC in practice;"
   ]
  },
  {
   "cell_type": "markdown",
   "metadata": {
    "slideshow": {
     "slide_type": "fragment"
    }
   },
   "source": [
    "* Usually, summary statistics are ad-hoc and \"handpicked\" out of subject-domain expertise. For example for dynamic models, summaries can be autocorrelations, cross-covariances, stationary mean. For i.i.d. data could be quantiles, mean and standard deviation etc.;"
   ]
  },
  {
   "cell_type": "markdown",
   "metadata": {
    "slideshow": {
     "slide_type": "fragment"
    }
   },
   "source": [
    "* Several methods to learn/select summary statistics have been developed (see (Prangle, 2015) for a review on these methods);"
   ]
  },
  {
   "cell_type": "markdown",
   "metadata": {
    "slideshow": {
     "slide_type": "slide"
    }
   },
   "source": [
    "#### Learning summary statistics using linear regression\n",
    "\n",
    "* An important paper is Fearnhead & Prangle, 2012 where they use linear regression to learn summary statistics, they also show that the posterior mean is the *best* (in terms of loss for the posterior mean) summary statistic; "
   ]
  },
  {
   "cell_type": "markdown",
   "metadata": {
    "slideshow": {
     "slide_type": "fragment"
    }
   },
   "source": [
    "* The semi-automatic ABC method (Fearnhead & Prangle, 2012):\n",
    "    * We can sample a set of parameter-data pairs $(\\theta^{i}, y^i)_{1 \\leq i \\leq N}$, by sampling $\\theta^{i}$ from the prior $p(\\theta)$, and then simulate corresponding data set $y^{i}$ from the simulator $p(y|\\theta)$;    \n",
    "    * Learn the posterior mean from the $N$ simulations,  using a linear regression model: $$\\theta_j^i = E(\\theta_j | y^i) + \\xi_j^i = b_{0_j} + b_j h(y^i) + \\xi_j^i.$$\n",
    "    * After fitting the linear regression model $S_j(y^{\\star}) = \\tilde{b}_{0_j} + \\tilde{b}_j h(y^{\\star})$ is the j:th summary statistics for the proposed data set $y^{\\star}$. "
   ]
  },
  {
   "cell_type": "markdown",
   "metadata": {
    "slideshow": {
     "slide_type": "slide"
    }
   },
   "source": [
    "#### Semi-automatic ABC for the Beta-Binomial model: Step 1: Generate data"
   ]
  },
  {
   "cell_type": "code",
   "execution_count": 7,
   "metadata": {
    "slideshow": {
     "slide_type": "fragment"
    }
   },
   "outputs": [],
   "source": [
    "# generate parameter-data pairs  \n",
    "N = 1000\n",
    "parameters = rand(prior, N)\n",
    "data = zeros(N,5)\n",
    "for i in 1:N; data[i,:] = data_generator(parameters[i]); end"
   ]
  },
  {
   "cell_type": "markdown",
   "metadata": {
    "slideshow": {
     "slide_type": "slide"
    }
   },
   "source": [
    "#### Semi-automatic ABC for the Beta-Binomial model: Step 2: Fit linear regression model"
   ]
  },
  {
   "cell_type": "code",
   "execution_count": 8,
   "metadata": {
    "slideshow": {
     "slide_type": "fragment"
    }
   },
   "outputs": [],
   "source": [
    "# Fit linear regression model \n",
    "β = (data'*data)\\data'*parameters; # ls estimation "
   ]
  },
  {
   "cell_type": "code",
   "execution_count": 9,
   "metadata": {
    "slideshow": {
     "slide_type": "fragment"
    }
   },
   "outputs": [],
   "source": [
    "# Define the new function to compute the summary statistic \n",
    "S_semi_auto(y) = y'*β;"
   ]
  },
  {
   "cell_type": "markdown",
   "metadata": {
    "slideshow": {
     "slide_type": "slide"
    }
   },
   "source": [
    "#### Semi-automatic ABC for the Beta-Binomial model: Step 2: Run ABC algorithm"
   ]
  },
  {
   "cell_type": "code",
   "execution_count": 26,
   "metadata": {
    "slideshow": {
     "slide_type": "fragment"
    }
   },
   "outputs": [
    {
     "name": "stdout",
     "output_type": "stream",
     "text": [
      "Acceptance rate: 6.80 %"
     ]
    }
   ],
   "source": [
    "# Run ABC rejection sampling\n",
    "abc_posterior_samples = abc_rs(N_proposals = 10^6, ϵ  = 0.02, S=S_semi_auto);\n",
    "@printf \"Acceptance rate: %.2f %%\" length(abc_posterior_samples)/10^6*100"
   ]
  },
  {
   "cell_type": "code",
   "execution_count": 27,
   "metadata": {
    "slideshow": {
     "slide_type": "fragment"
    }
   },
   "outputs": [
    {
     "data": {
      "image/png": "[encoded data removed]",
      "text/plain": [
       "Figure(PyObject <Figure size 700x400 with 1 Axes>)"
      ]
     },
     "metadata": {},
     "output_type": "display_data"
    }
   ],
   "source": [
    "# plot posterior inference results \n",
    "plot_abc_inference_results(abc_posterior_samples);"
   ]
  },
  {
   "cell_type": "markdown",
   "metadata": {
    "slideshow": {
     "slide_type": "slide"
    }
   },
   "source": [
    "#### Replacing linear regression with multilayer perceptron (MLP) network\n",
    "\n",
    "\n",
    "* In Jiang et al., 2017 they replace the linear regression model with a MLP network, thus they have following regression model: $$\\theta^i = E(\\theta|y^i) + \\xi^i = f_{\\beta}(y^i) + \\xi^i.$$\n",
    "    Where $f_{\\beta}$ is the MLP parameterized by the weights $\\beta$.\n"
   ]
  },
  {
   "cell_type": "markdown",
   "metadata": {
    "slideshow": {
     "slide_type": "fragment"
    }
   },
   "source": [
    "<img src=\"fig/dnn_structure.PNG\" width=\"800\" height=\"800\" align = \"bottom\"/>\n",
    "\n",
    "Source: (Jiang et al., 2017)."
   ]
  },
  {
   "cell_type": "markdown",
   "metadata": {
    "slideshow": {
     "slide_type": "slide"
    }
   },
   "source": [
    "#### Partially exchangeable networks (PENs) \n",
    "\n",
    "* Markovian data is *partially exchangeable* (which is a property that charaterizes Markovian data the same way as *exchangeability* characterizes i.i.d. data); "
   ]
  },
  {
   "cell_type": "markdown",
   "metadata": {
    "slideshow": {
     "slide_type": "fragment"
    }
   },
   "source": [
    "* Now, PEN is desigen such that it is invariant to the partial exchangeabiliy property of Markovian data;"
   ]
  },
  {
   "cell_type": "markdown",
   "metadata": {
    "slideshow": {
     "slide_type": "fragment"
    }
   },
   "source": [
    "* We can write the PEN regression model as: $$\\theta^i = E(\\theta|y^i) + \\xi^i = \\rho_{\\beta_{\\rho}}\\biggl(y^i_{1:d}, \\sum_{l = 1}^{M-d}  \\phi_{\\beta_{\\phi}}(y^i_{l:l+d})\\biggr) + \\xi^i. $$   "
   ]
  },
  {
   "cell_type": "markdown",
   "metadata": {
    "slideshow": {
     "slide_type": "fragment"
    }
   },
   "source": [
    "* The advantage of PEN is that the architecture leverages the partial exchangeabiliy property of Markovian data, and thus PEN does not have to *learn* this property."
   ]
  },
  {
   "cell_type": "markdown",
   "metadata": {
    "slideshow": {
     "slide_type": "slide"
    }
   },
   "source": [
    "#### Results for the AR2 model\n",
    "\n",
    "Model: $$y_l = \\theta_1 y_{l-1} + \\theta_2 y_{l-2} + z_l,\\qquad z_l \\sim N(0,1).$$"
   ]
  },
  {
   "cell_type": "markdown",
   "metadata": {
    "slideshow": {
     "slide_type": "fragment"
    }
   },
   "source": [
    "<img src=\"fig/ar2_10_6.svg\" width=\"10000\" height=\"10000\" align = \"bottom\"/>"
   ]
  },
  {
   "cell_type": "markdown",
   "metadata": {
    "slideshow": {
     "slide_type": "slide"
    }
   },
   "source": [
    "#### Results for the AR2 model\n",
    "\n",
    "Model: $$y_l = \\theta_1 y_{l-1} + \\theta_2 y_{l-2} + z_l,\\qquad z_l \\sim N(0,1).$$\n",
    "\n",
    "<img src=\"fig/ar2_10_5.svg\"  width=\"10000\" height=\"10000\" align = \"bottom\"/>"
   ]
  },
  {
   "cell_type": "markdown",
   "metadata": {
    "slideshow": {
     "slide_type": "slide"
    }
   },
   "source": [
    "#### Results for the AR2 model\n",
    "\n",
    "Model: $$y_l = \\theta_1 y_{l-1} + \\theta_2 y_{l-2} + z_l,\\qquad z_l \\sim N(0,1).$$\n",
    "\n",
    "<img src=\"fig/ar2_10_4.svg\"  width=\"10000\" height=\"10000\" align = \"bottom\"/>"
   ]
  },
  {
   "cell_type": "markdown",
   "metadata": {
    "slideshow": {
     "slide_type": "slide"
    }
   },
   "source": [
    "#### Results for the AR2 model\n",
    "\n",
    "Model: $$y_l = \\theta_1 y_{l-1} + \\theta_2 y_{l-2} + z_l,\\qquad z_l \\sim N(0,1).$$\n",
    "\n",
    "<img src=\"fig/ar2_10_3.svg\"  width=\"10000\" height=\"10000\" align = \"bottom\"/>"
   ]
  },
  {
   "cell_type": "markdown",
   "metadata": {
    "slideshow": {
     "slide_type": "slide"
    }
   },
   "source": [
    "#### Conclusions \n",
    "\n",
    "* A practical introduction to ABC for a simple model (the Beta-Binomial model)"
   ]
  },
  {
   "cell_type": "markdown",
   "metadata": {
    "slideshow": {
     "slide_type": "fragment"
    }
   },
   "source": [
    "* We have studied how deep learning methods can be used to learn summary statistics for ABC, and presented the entire workflow for a simple example;\n"
   ]
  },
  {
   "cell_type": "markdown",
   "metadata": {
    "slideshow": {
     "slide_type": "fragment"
    }
   },
   "source": [
    "* PEN is particularly useful to use for time-series data since the network leverages the Markovian structure of the data.\n"
   ]
  },
  {
   "cell_type": "markdown",
   "metadata": {
    "slideshow": {
     "slide_type": "fragment"
    }
   },
   "source": [
    "* In Wiqvist et al. 2019 we show how it is possible to obtain good results for several models, including non-Markovian data (for many more details and examples see (Wiqvist et al. 2019))."
   ]
  },
  {
   "cell_type": "markdown",
   "metadata": {
    "slideshow": {
     "slide_type": "slide"
    }
   },
   "source": [
    "#### The end\n",
    "\n",
    "Homepage: http://www.maths.lu.se/staff/samuel-wiqvist/\n",
    "\n",
    "Slides: https://github.com/SamuelWiqvist/bayesatlund2019presentation\n",
    "\n",
    "Github: SamuelWiqvist\n",
    "\n",
    "Twitter: samuel_wiqvist"
   ]
  },
  {
   "cell_type": "markdown",
   "metadata": {
    "slideshow": {
     "slide_type": "slide"
    }
   },
   "source": [
    "#### References \n",
    "\n",
    "Fearnhead,  P.  and  Prangle,  D. *Constructing  summary statistics for approximate bayesian computation:  semi-automatic approximate Bayesian computation*. Journal of the Royal Statistical Society: Series B, 74(3):419–474, 2012.\n",
    "\n",
    "\n",
    "Jiang, B., Wu, T.-y., Zheng, C., and Wong, W. H. *Learning summary statistic for approximate Bayesian computation via deep neural network*. Statistica Sinica, pp. 1595–1618, 2017.\n",
    "\n",
    "\n",
    "Prangle, D. *Summary statistics in approximate Bayesian computation*. arXiv:1512.05633, 2015.\n",
    "\n",
    "Wiqvist, S., Mattei P-A., Picchini U., and Frellsen J. *Partially Exchangeable Networks and Architectures for Learning Summary Statistics in Approximate Bayesian Computation*, arXiv:1901.10230, 2019. "
   ]
  },
  {
   "cell_type": "markdown",
   "metadata": {
    "slideshow": {
     "slide_type": "slide"
    }
   },
   "source": [
    "#### Extra slide: ABC rejection sampling for the Beta-Binomial model  "
   ]
  },
  {
   "cell_type": "code",
   "execution_count": 12,
   "metadata": {
    "slideshow": {
     "slide_type": "fragment"
    }
   },
   "outputs": [],
   "source": [
    "# ABC rejection sampling algorithm \n",
    "function abc_rs_without_summary_stats(;N_proposals::Int, ϵ::Real)\n",
    "    \n",
    "    abc_posterior_samples = zeros(N_proposals)\n",
    "    nbr_accepted_proposals = 0 \n",
    "    \n",
    "    for i in 1:N_proposals\n",
    "    \n",
    "        p_star = rand(prior) # sample parameter proposal from prior \n",
    "        y_star = data_generator(p_star) # generate data from the data model\n",
    "        Δ = sum(abs.(sort(y_star)-sort(y_obs))) # compute ABC distance      \n",
    "        \n",
    "        if Δ <= ϵ # accept proposal \n",
    "            nbr_accepted_proposals += 1 \n",
    "            abc_posterior_samples[nbr_accepted_proposals] = p_star \n",
    "        end \n",
    "    end \n",
    "    \n",
    "    return abc_posterior_samples[1:nbr_accepted_proposals]\n",
    "end; "
   ]
  },
  {
   "cell_type": "markdown",
   "metadata": {
    "slideshow": {
     "slide_type": "slide"
    }
   },
   "source": [
    "#### Extra slide: ABC rejection sampling for the Beta-Binomial model "
   ]
  },
  {
   "cell_type": "code",
   "execution_count": 13,
   "metadata": {
    "slideshow": {
     "slide_type": "fragment"
    }
   },
   "outputs": [
    {
     "name": "stdout",
     "output_type": "stream",
     "text": [
      "Acceptance rate: 0.35 %"
     ]
    }
   ],
   "source": [
    "# Run ABC rejection sampling\n",
    "abc_posterior_samples = abc_rs_without_summary_stats(N_proposals = 10^6, ϵ  = 0);\n",
    "@printf \"Acceptance rate: %.2f %%\" length(abc_posterior_samples)/10^6*100"
   ]
  },
  {
   "cell_type": "code",
   "execution_count": 14,
   "metadata": {
    "slideshow": {
     "slide_type": "fragment"
    }
   },
   "outputs": [
    {
     "data": {
      "image/png": "[encoded data removed]",
      "text/plain": [
       "Figure(PyObject <Figure size 700x400 with 1 Axes>)"
      ]
     },
     "metadata": {},
     "output_type": "display_data"
    }
   ],
   "source": [
    "# plot posterior inference results \n",
    "plot_abc_inference_results(abc_posterior_samples);"
   ]
  },
  {
   "cell_type": "markdown",
   "metadata": {
    "slideshow": {
     "slide_type": "slide"
    }
   },
   "source": [
    "#### Extra slide: Approximate Bayesian Computation: Approximate posterior \n",
    "\n",
    "* The joint distribution of accapted parameter-data paris $(\\theta^{\\star}, s^{\\star})$ is \n",
    "$$p(\\theta^{\\star}, s^{\\star}) = p(s^{\\star}|\\theta^{\\star}) p(\\theta^{\\star}) I(\\Delta(s^{\\star},s^{\\text{obs}}) \\leq \\epsilon),$$\n",
    "where $s^{\\text{obs}} = S(y^{\\text{obs}})$, $I$ indicator kernel, $\\Delta$ distance function, and $\\epsilon$ the threshold.\n",
    "\n"
   ]
  },
  {
   "cell_type": "markdown",
   "metadata": {
    "slideshow": {
     "slide_type": "fragment"
    }
   },
   "source": [
    "* Now assume that $S(s^{\\star}) = S(s^{\\text{obs}}) \\,\\, \\text{iff} \\,\\, y^{\\star} = y^{\\text{obs}}$ and let $\\epsilon = 0$. Now marginlizing $s^{\\star}$ yields the true posterior:\n",
    "$$ p(\\theta^{\\star}| s^{\\text{obs}}) = \\int p(s^{\\star}|\\theta^{\\star}) p(\\theta^{\\star}) I(\\Delta(s^{\\star},s^{\\text{obs}}) \\leq \\epsilon)   ds^{\\star} = p(y |\\theta^{\\star}) p(\\theta^{\\star}) \\propto  p(\\theta^{\\star}| y) .$$"
   ]
  },
  {
   "cell_type": "markdown",
   "metadata": {
    "slideshow": {
     "slide_type": "fragment"
    }
   },
   "source": [
    "* However, in (almost) all situations we sample from an approximate posterior: \n",
    "\n",
    "$$p^{\\epsilon}_{\\text{ABC}}(\\theta^{\\star} | s^{\\text{obs}}) \\propto \\int p(s^{\\star}|\\theta^{\\star}) p(\\theta^{\\star}) I(\\Delta(s^{\\star},s^{\\text{obs}}) \\leq \\epsilon)   ds^{\\star}.$$\n"
   ]
  },
  {
   "cell_type": "markdown",
   "metadata": {
    "slideshow": {
     "slide_type": "slide"
    }
   },
   "source": [
    "#### Extra slide: Results for the AR2 model with observation noise\n",
    "\n",
    "Model: $$y_l = \\theta_1 y_{l-1} + \\theta_2 y_{l-2} + z_l,\\qquad z_l \\sim N(0,1).$$"
   ]
  },
  {
   "cell_type": "markdown",
   "metadata": {
    "slideshow": {
     "slide_type": "fragment"
    }
   },
   "source": [
    "<img src=\"fig/res_ar2_wasserstein.svg\" width=\"800\" height=\"2000\" align=\"center\"/>"
   ]
  },
  {
   "cell_type": "markdown",
   "metadata": {
    "slideshow": {
     "slide_type": "slide"
    }
   },
   "source": [
    "#### Extra slide: Results for the MA2 model with observation noise\n",
    "\n",
    "Model: $$y_i = x_i + e_i, \\qquad e_i \\sim N(0, \\sigma_\\epsilon),$$ $$x_i = z_i + \\theta_1 z_{i-1} + \\theta_2 z_{i-2}, \\qquad z_i \\sim N(0, 1).$$\n"
   ]
  },
  {
   "cell_type": "markdown",
   "metadata": {
    "slideshow": {
     "slide_type": "fragment"
    }
   },
   "source": [
    "<img src=\"fig/res_ma2_wasserstein.svg\" width=\"800\" height=\"2000\" align=\"center\"/>\n"
   ]
  }
 ],
 "metadata": {
  "@webio": {
   "lastCommId": null,
   "lastKernelId": null
  },
  "celltoolbar": "Slideshow",
  "kernelspec": {
   "display_name": "Julia 1.0.0",
   "language": "julia",
   "name": "julia-1.0"
  },
  "language_info": {
   "file_extension": ".jl",
   "mimetype": "application/julia",
   "name": "julia",
   "version": "1.0.0"
  }
 },
 "nbformat": 4,
 "nbformat_minor": 2
}
